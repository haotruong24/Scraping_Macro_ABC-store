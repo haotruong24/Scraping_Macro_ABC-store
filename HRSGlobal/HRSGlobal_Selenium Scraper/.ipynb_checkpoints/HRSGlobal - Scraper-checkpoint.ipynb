{
 "cells": [
  {
   "cell_type": "code",
   "execution_count": 1,
   "metadata": {},
   "outputs": [
    {
     "name": "stdout",
     "output_type": "stream",
     "text": [
      "Enter Order ID to scrape:181159\n",
      "Save export csv file as:181159\n"
     ]
    }
   ],
   "source": [
    "import selenium\n",
    "from selenium import webdriver\n",
    "import time\n",
    "from time import sleep\n",
    "import pandas as pd\n",
    "\n",
    "browser = webdriver.Chrome(r'C:\\Users\\haotr\\Desktop\\scrapy\\chromedriver_win32\\chromedriver')\n",
    "browser.get('https://www.hrs-global.com/user-login')\n",
    "\n",
    "username = browser.find_element_by_id('UserName')\n",
    "username.send_keys('******************')\n",
    "\n",
    "password=browser.find_element_by_id('Password')\n",
    "password.send_keys('********')\n",
    "\n",
    "browser.find_element_by_id('cmdSignIn').click()\n",
    "time.sleep(1)\n",
    "browser.get('https://www.hrs-global.com/order-tracking')\n",
    "\n",
    "g = input('Enter Order ID to scrape:' )\n",
    "order_number = browser.find_element_by_xpath(\"*//a[@title='\"+g+\"']\")\n",
    "order_number.click()\n",
    "\n",
    "UPC=browser.find_elements_by_xpath(\"//small[contains(text(),'UPC Code')]\")\n",
    "Code=browser.find_elements_by_xpath(\"//small[contains(text(),'Code:')]\")\n",
    "QTY=browser.find_elements_by_xpath(\"//*[contains(@data-title, 'Qty ordered')]\")\n",
    "Price=browser.find_elements_by_xpath(\"//*[contains(@data-title, 'Price')]\")\n",
    "Picture=browser.find_elements_by_xpath(\"//td[contains(@class, 'order-review-content-picture')]/img\")\n",
    "\n",
    "Name_lst=[]\n",
    "Name = browser.find_elements_by_xpath(\"//*[@class = 'order-review-content-description']//a\")\n",
    "for i in range(len(Name)):\n",
    "    Name_lst.append(Name[i].get_attribute('title'))\n",
    "    \n",
    "UPC_lst=[]\n",
    "for t in UPC:\n",
    "    UPC_lst.append(t.text)\n",
    "    \n",
    "Code_lst=[]\n",
    "for t in Code:\n",
    "    Code_lst.append(t.text)\n",
    "\n",
    "QTY_lst=[]\n",
    "for t in QTY:\n",
    "    QTY_lst.append(t.text)\n",
    "\n",
    "Price_lst=[]\n",
    "for t in Price:\n",
    "    Price_lst.append(t.text)\n",
    "    \n",
    "Picture_lst = []\n",
    "for t in Picture:\n",
    "    Picture_lst.append(t.get_attribute(\"src\"))\n",
    "\n",
    "#Put above list of data into excel file with corresponding column's name   \n",
    "df = pd.DataFrame({'Name': Name_lst,\n",
    "                   'UPC': UPC_lst,\n",
    "                   'Code': Code_lst,\n",
    "                   'QTY': QTY_lst,\n",
    "                   'Price':Price_lst,\n",
    "                   'Picture':Picture_lst},columns=['Name','UPC', 'Code','QTY','Price','Picture'])\n",
    "\n",
    "n = input('Save export csv file as:')\n",
    "df.to_csv(n+'.csv', sep=',',index=False)"
   ]
  },
  {
   "cell_type": "code",
   "execution_count": null,
   "metadata": {
    "collapsed": true
   },
   "outputs": [],
   "source": []
  }
 ],
 "metadata": {
  "kernelspec": {
   "display_name": "Python 3",
   "language": "python",
   "name": "python3"
  },
  "language_info": {
   "codemirror_mode": {
    "name": "ipython",
    "version": 3
   },
   "file_extension": ".py",
   "mimetype": "text/x-python",
   "name": "python",
   "nbconvert_exporter": "python",
   "pygments_lexer": "ipython3",
   "version": "3.6.3"
  }
 },
 "nbformat": 4,
 "nbformat_minor": 2
}

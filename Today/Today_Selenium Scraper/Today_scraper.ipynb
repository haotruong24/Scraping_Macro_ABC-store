{
 "cells": [
  {
   "cell_type": "code",
   "execution_count": null,
   "metadata": {},
   "outputs": [],
   "source": [
    "import selenium\n",
    "from selenium import webdriver\n",
    "import time\n",
    "from time import sleep\n",
    "import pandas as pd\n",
    "\n",
    "# Initialize Chrome Webdriver, pointing to its location on the drive. \n",
    "browser = webdriver.Chrome(r'C:\\Users\\haotr\\Desktop\\scrapy\\chromedriver_win32\\chromedriver')\n",
    "browser.get('https://todays.handshake.com/account/login')\n",
    "\n",
    "# Authentication to login, username and password are hidden for security purpose\n",
    "username = browser.find_element_by_id('id_username')\n",
    "username.send_keys('*************************')\n",
    "\n",
    "password=browser.find_element_by_id('id_password')\n",
    "password.send_keys('***********')\n",
    "\n",
    "browser.find_element_by_xpath(\"//*[contains(@value, 'Log in')]\").click()  \n",
    "time.sleep(1)\n",
    "browser.get('https://todays.handshake.com/b/orders')\n",
    "\n",
    "# Order ID that user to scrape\n",
    "g = input('Enter Order ID to scrape:' )\n",
    "browser.get('https://todays.handshake.com/b/orders/'+g)\n",
    "\n",
    "#Sleep function is used to halt the program, waiting for the site to completely loading\n",
    "sleep(15)\n",
    "\n",
    "#Extract UPC, Name, SKU, Price, Quantity purchased and Product Picture\n",
    "details = browser.find_elements_by_xpath(\"//*[contains(@class,'icon-info-sign')]\")\n",
    "\n",
    "UPC_lst=[]\n",
    "Name_lst=[]\n",
    "SKU_lst=[]\n",
    "Price_lst=[]\n",
    "QTY_lst =[]\n",
    "Picture_lst=[]\n",
    "\n",
    "for i in range(len(details)):\n",
    "    print(i)\n",
    "    details[i].click()\n",
    "    \n",
    "    sleep(0.7)\n",
    "    \n",
    "    UPC_popup=browser.find_elements_by_xpath(\"//*[@id='order']/div[4]/div/div[2]/div[1]/div[2]/div[2]/table/tbody/tr[3]/td[2]\")[0].text\n",
    "    UPC_lst.append(UPC_popup)\n",
    "    \n",
    "    Name_popup=browser.find_elements_by_xpath(\"//*[@id='order']/div[4]/div/div[2]/div[1]/div[2]/div[2]/h3\")[0].text\n",
    "    Name_lst.append(Name_popup)\n",
    "    \n",
    "    SKU_popup=browser.find_elements_by_xpath(\"//*[@id='order']/div[4]/div/div[2]/div[1]/div[2]/div[2]/p[1]/span[2]\")[0].text\n",
    "    SKU_lst.append(SKU_popup)\n",
    "    \n",
    "    Price_popup = browser.find_elements_by_xpath(\"//*[@id='order']/div[4]/div/div[2]/div[1]/div[2]/div[2]/p[1]/span[1]/span\")[0].text\n",
    "    Price_lst.append(Price_popup)\n",
    "    \n",
    "    QTY_popup = browser.find_elements_by_xpath(\"//*[@id='order']/div[4]/div/div[2]/div[1]/div[2]/div[2]/table/tbody/tr[5]/td/div/form/input\")[0].get_attribute('value')\n",
    "    QTY_lst.append(QTY_popup)\n",
    "    \n",
    "    Picture_popup =  browser.find_elements_by_xpath(\"//*[@id='order']/div[4]/div/div[2]/div[1]/div[1]/a/span/img\")[0].get_attribute('src')\n",
    "    Picture_lst.append(Picture_popup)\n",
    "    \n",
    "    browser.find_elements_by_xpath(\"//*[@class = 'icon-remove']\")[0].click()\n",
    "    sleep(0.2)\n",
    "\n",
    "# Export extracted data into excel file\n",
    "df = pd.DataFrame({'UPC': UPC_lst,\n",
    "                   'Name': Name_lst,\n",
    "                   'SKU': SKU_lst,\n",
    "                   'QTY': QTY_lst,\n",
    "                   'Price':Price_lst,\n",
    "                   'Picture':Picture_lst},columns=['Name','UPC', 'SKU','QTY','Price','Picture'])\n",
    "\n",
    "n = input('Save export csv file as:')\n",
    "df.to_csv(n+'.csv', sep=',',index=False)"
   ]
  },
  {
   "cell_type": "code",
   "execution_count": null,
   "metadata": {
    "collapsed": true
   },
   "outputs": [],
   "source": []
  },
  {
   "cell_type": "code",
   "execution_count": null,
   "metadata": {
    "collapsed": true
   },
   "outputs": [],
   "source": []
  }
 ],
 "metadata": {
  "kernelspec": {
   "display_name": "Python 3",
   "language": "python",
   "name": "python3"
  },
  "language_info": {
   "codemirror_mode": {
    "name": "ipython",
    "version": 3
   },
   "file_extension": ".py",
   "mimetype": "text/x-python",
   "name": "python",
   "nbconvert_exporter": "python",
   "pygments_lexer": "ipython3",
   "version": "3.6.3"
  }
 },
 "nbformat": 4,
 "nbformat_minor": 2
}
